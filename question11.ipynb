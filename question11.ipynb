{
 "cells": [
  {
   "cell_type": "markdown",
   "id": "c9875f2f-020c-4381-855c-676a3c00f23f",
   "metadata": {},
   "source": [
    "# Notebook for assignment 7"
   ]
  },
  {
   "cell_type": "code",
   "execution_count": 1,
   "id": "dfadc76b-5afa-43cf-a5bc-9d25ff12509a",
   "metadata": {},
   "outputs": [],
   "source": [
    "def compute_mean(numbers):\n",
    "    total = 0\n",
    "    for i in numbers:\n",
    "        total += i\n",
    "\n",
    "    return total / len(numbers)"
   ]
  },
  {
   "cell_type": "markdown",
   "id": "a1a21855-ef35-4459-b7c7-f75bcdd79791",
   "metadata": {},
   "source": [
    "The `compute_mean` function takes a list of numbers and returns the mean/average of all of the numbers in the list.\n",
    "\n",
    "$$\n",
    "\\bar{x} = \\frac{x_1 + x_2 + \\cdots + x_n}{n} = \\frac{1}{n} \\left( \\sum_{i=1}^n x_i \\right)\n",
    "$$"
   ]
  },
  {
   "cell_type": "code",
   "execution_count": 2,
   "id": "f29000a5-09f8-411f-a5c3-2ec62bc92917",
   "metadata": {},
   "outputs": [
    {
     "data": {
      "text/plain": [
       "5.0"
      ]
     },
     "execution_count": 2,
     "metadata": {},
     "output_type": "execute_result"
    }
   ],
   "source": [
    "compute_mean([2, 4, 6, 8])"
   ]
  },
  {
   "cell_type": "code",
   "execution_count": null,
   "id": "6feccfb6-6061-4cb6-9e37-92a9b8fc07cc",
   "metadata": {},
   "outputs": [],
   "source": []
  },
  {
   "cell_type": "code",
   "execution_count": null,
   "id": "05b96c9d-5195-4311-9fbf-693fd0df8ef5",
   "metadata": {},
   "outputs": [],
   "source": []
  }
 ],
 "metadata": {
  "kernelspec": {
   "display_name": "Python [conda env:base] *",
   "language": "python",
   "name": "conda-base-py"
  },
  "language_info": {
   "codemirror_mode": {
    "name": "ipython",
    "version": 3
   },
   "file_extension": ".py",
   "mimetype": "text/x-python",
   "name": "python",
   "nbconvert_exporter": "python",
   "pygments_lexer": "ipython3",
   "version": "3.12.2"
  }
 },
 "nbformat": 4,
 "nbformat_minor": 5
}
