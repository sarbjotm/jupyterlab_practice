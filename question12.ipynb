{
 "cells": [
  {
   "cell_type": "markdown",
   "id": "c9875f2f-020c-4381-855c-676a3c00f23f",
   "metadata": {},
   "source": [
    "We are currently working in the following directory:"
   ]
  },
  {
   "cell_type": "code",
   "execution_count": 1,
   "id": "05b96c9d-5195-4311-9fbf-693fd0df8ef5",
   "metadata": {},
   "outputs": [
    {
     "name": "stdout",
     "output_type": "stream",
     "text": [
      "/Users/sarbjotm/Desktop/Data Science Toolbox/student-a7\n"
     ]
    }
   ],
   "source": [
    "!pwd"
   ]
  },
  {
   "cell_type": "markdown",
   "id": "3e31bc2c-ba45-4e4c-9da5-09ad82dcaf19",
   "metadata": {},
   "source": [
    "To time how long it takes to run a Python cell, we could use the `timeit` command inside a cell as is shown below:\n",
    "\n",
    "```python\n",
    "%timeit\n",
    "for i in range(1_000_000):\n",
    "    i**2"
   ]
  },
  {
   "cell_type": "code",
   "execution_count": 2,
   "id": "0a467dab-4c8b-416d-89f9-73550db32ec2",
   "metadata": {},
   "outputs": [
    {
     "name": "stdout",
     "output_type": "stream",
     "text": [
      "[NbConvertApp] Converting notebook question12.ipynb to html\n",
      "[NbConvertApp] Writing 270870 bytes to question12.html\n"
     ]
    }
   ],
   "source": [
    "!jupyter nbconvert --to html --no-input question12.ipynb\n"
   ]
  },
  {
   "cell_type": "code",
   "execution_count": null,
   "id": "42f74496-121b-44c6-9e76-4eb7fbcdafa9",
   "metadata": {},
   "outputs": [],
   "source": []
  }
 ],
 "metadata": {
  "kernelspec": {
   "display_name": "Python [conda env:base] *",
   "language": "python",
   "name": "conda-base-py"
  },
  "language_info": {
   "codemirror_mode": {
    "name": "ipython",
    "version": 3
   },
   "file_extension": ".py",
   "mimetype": "text/x-python",
   "name": "python",
   "nbconvert_exporter": "python",
   "pygments_lexer": "ipython3",
   "version": "3.12.2"
  }
 },
 "nbformat": 4,
 "nbformat_minor": 5
}
